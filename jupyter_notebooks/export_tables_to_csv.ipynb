{
 "cells": [
  {
   "cell_type": "code",
   "execution_count": 1,
   "id": "ae091934",
   "metadata": {},
   "outputs": [
    {
     "name": "stdout",
     "output_type": "stream",
     "text": [
      "Exported departments to ../data/csv_exports\\departments.csv\n",
      "Exported employees to ../data/csv_exports\\employees.csv\n",
      "Exported projects to ../data/csv_exports\\projects.csv\n",
      "Exported project_allocations to ../data/csv_exports\\project_allocations.csv\n",
      "Exported financials to ../data/csv_exports\\financials.csv\n",
      "Exported salaries to ../data/csv_exports\\salaries.csv\n"
     ]
    }
   ],
   "source": [
    "import sqlite3\n",
    "import pandas as pd\n",
    "import os\n",
    "\n",
    "# Paths\n",
    "db_path = \"../data/business_finance.db\"  # adjust path if needed\n",
    "output_dir = \"../data/csv_exports\"\n",
    "os.makedirs(output_dir, exist_ok=True)\n",
    "\n",
    "# List of tables to export\n",
    "tables = [\n",
    "    \"departments\",\n",
    "    \"employees\",\n",
    "    \"projects\",\n",
    "    \"project_allocations\",\n",
    "    \"financials\",\n",
    "    \"salaries\"\n",
    "]\n",
    "\n",
    "# Connect to the database\n",
    "conn = sqlite3.connect(db_path)\n",
    "\n",
    "# Export each table to CSV\n",
    "for table in tables:\n",
    "    df = pd.read_sql_query(f\"SELECT * FROM {table}\", conn)\n",
    "    file_path = os.path.join(output_dir, f\"{table}.csv\")\n",
    "    df.to_csv(file_path, index=False)\n",
    "    print(f\"Exported {table} to {file_path}\")\n",
    "\n",
    "# Close the connection\n",
    "conn.close()\n"
   ]
  }
 ],
 "metadata": {
  "kernelspec": {
   "display_name": "myenv",
   "language": "python",
   "name": "python3"
  },
  "language_info": {
   "codemirror_mode": {
    "name": "ipython",
    "version": 3
   },
   "file_extension": ".py",
   "mimetype": "text/x-python",
   "name": "python",
   "nbconvert_exporter": "python",
   "pygments_lexer": "ipython3",
   "version": "3.11.9"
  }
 },
 "nbformat": 4,
 "nbformat_minor": 5
}
